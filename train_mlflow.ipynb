{
 "cells": [
  {
   "cell_type": "code",
   "execution_count": 25,
   "id": "56d6b166-d418-4daf-b38e-9e6e958e5e65",
   "metadata": {},
   "outputs": [],
   "source": [
    "import pandas as pd\n",
    "import numpy as np\n",
    "import mlflow\n",
    "import mlflow.sklearn\n",
    "import joblib\n",
    "\n",
    "from sklearn.preprocessing import MinMaxScaler\n",
    "from sklearn.model_selection import cross_validate\n",
    "from sklearn.metrics import make_scorer\n",
    "from sklearn.model_selection import GridSearchCV\n",
    "from sklearn.ensemble import RandomForestClassifier, GradientBoostingClassifier\n",
    "from sklearn.linear_model import LogisticRegression\n",
    "from sklearn.svm import SVC\n",
    "from sklearn.neighbors import KNeighborsClassifier\n",
    "from lightgbm import LGBMClassifier\n",
    "from xgboost import XGBClassifier  # Bônus se quiser testar também\n",
    "from sklearn.metrics import classification_report, accuracy_score, f1_score, precision_score, recall_score\n",
    "from sklearn.ensemble import RandomForestClassifier\n",
    "from sklearn.metrics import classification_report\n",
    "from sklearn.model_selection import train_test_split\n",
    "from sklearn.preprocessing import OneHotEncoder, StandardScaler"
   ]
  },
  {
   "cell_type": "code",
   "execution_count": 2,
   "id": "ab8f040c-7983-4849-bbb6-3c4536abcb3b",
   "metadata": {},
   "outputs": [],
   "source": [
    "import warnings\n",
    "warnings.filterwarnings('ignore')"
   ]
  },
  {
   "cell_type": "code",
   "execution_count": 3,
   "id": "f42ec955-6e60-4d15-aedc-29771d97f4e8",
   "metadata": {},
   "outputs": [],
   "source": [
    "bucket_path = 'gs://predictive-maintenance-leopoldo/manutpred.csv'\n",
    "df_raw = pd.read_csv(bucket_path, storage_options={'token': 'cloud'})"
   ]
  },
  {
   "cell_type": "code",
   "execution_count": 4,
   "id": "932379d6-5d1c-432e-ae91-42f520e8eca4",
   "metadata": {},
   "outputs": [
    {
     "data": {
      "text/html": [
       "<div>\n",
       "<style scoped>\n",
       "    .dataframe tbody tr th:only-of-type {\n",
       "        vertical-align: middle;\n",
       "    }\n",
       "\n",
       "    .dataframe tbody tr th {\n",
       "        vertical-align: top;\n",
       "    }\n",
       "\n",
       "    .dataframe thead th {\n",
       "        text-align: right;\n",
       "    }\n",
       "</style>\n",
       "<table border=\"1\" class=\"dataframe\">\n",
       "  <thead>\n",
       "    <tr style=\"text-align: right;\">\n",
       "      <th></th>\n",
       "      <th>UDI</th>\n",
       "      <th>Product ID</th>\n",
       "      <th>Type</th>\n",
       "      <th>Air temperature [K]</th>\n",
       "      <th>Process temperature [K]</th>\n",
       "      <th>Rotational speed [rpm]</th>\n",
       "      <th>Torque [Nm]</th>\n",
       "      <th>Tool wear [min]</th>\n",
       "      <th>Machine failure</th>\n",
       "      <th>TWF</th>\n",
       "      <th>HDF</th>\n",
       "      <th>PWF</th>\n",
       "      <th>OSF</th>\n",
       "      <th>RNF</th>\n",
       "    </tr>\n",
       "  </thead>\n",
       "  <tbody>\n",
       "    <tr>\n",
       "      <th>0</th>\n",
       "      <td>1</td>\n",
       "      <td>M14860</td>\n",
       "      <td>M</td>\n",
       "      <td>298.1</td>\n",
       "      <td>308.6</td>\n",
       "      <td>1551</td>\n",
       "      <td>42.8</td>\n",
       "      <td>0</td>\n",
       "      <td>0</td>\n",
       "      <td>0</td>\n",
       "      <td>0</td>\n",
       "      <td>0</td>\n",
       "      <td>0</td>\n",
       "      <td>0</td>\n",
       "    </tr>\n",
       "    <tr>\n",
       "      <th>1</th>\n",
       "      <td>2</td>\n",
       "      <td>L47181</td>\n",
       "      <td>L</td>\n",
       "      <td>298.2</td>\n",
       "      <td>308.7</td>\n",
       "      <td>1408</td>\n",
       "      <td>46.3</td>\n",
       "      <td>3</td>\n",
       "      <td>0</td>\n",
       "      <td>0</td>\n",
       "      <td>0</td>\n",
       "      <td>0</td>\n",
       "      <td>0</td>\n",
       "      <td>0</td>\n",
       "    </tr>\n",
       "    <tr>\n",
       "      <th>2</th>\n",
       "      <td>3</td>\n",
       "      <td>L47182</td>\n",
       "      <td>L</td>\n",
       "      <td>298.1</td>\n",
       "      <td>308.5</td>\n",
       "      <td>1498</td>\n",
       "      <td>49.4</td>\n",
       "      <td>5</td>\n",
       "      <td>0</td>\n",
       "      <td>0</td>\n",
       "      <td>0</td>\n",
       "      <td>0</td>\n",
       "      <td>0</td>\n",
       "      <td>0</td>\n",
       "    </tr>\n",
       "    <tr>\n",
       "      <th>3</th>\n",
       "      <td>4</td>\n",
       "      <td>L47183</td>\n",
       "      <td>L</td>\n",
       "      <td>298.2</td>\n",
       "      <td>308.6</td>\n",
       "      <td>1433</td>\n",
       "      <td>39.5</td>\n",
       "      <td>7</td>\n",
       "      <td>0</td>\n",
       "      <td>0</td>\n",
       "      <td>0</td>\n",
       "      <td>0</td>\n",
       "      <td>0</td>\n",
       "      <td>0</td>\n",
       "    </tr>\n",
       "    <tr>\n",
       "      <th>4</th>\n",
       "      <td>5</td>\n",
       "      <td>L47184</td>\n",
       "      <td>L</td>\n",
       "      <td>298.2</td>\n",
       "      <td>308.7</td>\n",
       "      <td>1408</td>\n",
       "      <td>40.0</td>\n",
       "      <td>9</td>\n",
       "      <td>0</td>\n",
       "      <td>0</td>\n",
       "      <td>0</td>\n",
       "      <td>0</td>\n",
       "      <td>0</td>\n",
       "      <td>0</td>\n",
       "    </tr>\n",
       "  </tbody>\n",
       "</table>\n",
       "</div>"
      ],
      "text/plain": [
       "   UDI Product ID Type  Air temperature [K]  Process temperature [K]  \\\n",
       "0    1     M14860    M                298.1                    308.6   \n",
       "1    2     L47181    L                298.2                    308.7   \n",
       "2    3     L47182    L                298.1                    308.5   \n",
       "3    4     L47183    L                298.2                    308.6   \n",
       "4    5     L47184    L                298.2                    308.7   \n",
       "\n",
       "   Rotational speed [rpm]  Torque [Nm]  Tool wear [min]  Machine failure  TWF  \\\n",
       "0                    1551         42.8                0                0    0   \n",
       "1                    1408         46.3                3                0    0   \n",
       "2                    1498         49.4                5                0    0   \n",
       "3                    1433         39.5                7                0    0   \n",
       "4                    1408         40.0                9                0    0   \n",
       "\n",
       "   HDF  PWF  OSF  RNF  \n",
       "0    0    0    0    0  \n",
       "1    0    0    0    0  \n",
       "2    0    0    0    0  \n",
       "3    0    0    0    0  \n",
       "4    0    0    0    0  "
      ]
     },
     "execution_count": 4,
     "metadata": {},
     "output_type": "execute_result"
    }
   ],
   "source": [
    "df = df_raw.copy()\n",
    "df.head()"
   ]
  },
  {
   "cell_type": "code",
   "execution_count": 5,
   "id": "f9e09299-4b44-42e6-bbac-6f322f3f53fa",
   "metadata": {},
   "outputs": [],
   "source": [
    "drop_columns = [\"TWF\", \"HDF\", \"PWF\", \"OSF\", \"RNF\"]\n",
    "df.drop(drop_columns, axis=1, inplace=True)"
   ]
  },
  {
   "cell_type": "code",
   "execution_count": 6,
   "id": "6e37cd50-e2e8-495d-ae4a-03b8ec92baa5",
   "metadata": {},
   "outputs": [
    {
     "data": {
      "text/html": [
       "<div>\n",
       "<style scoped>\n",
       "    .dataframe tbody tr th:only-of-type {\n",
       "        vertical-align: middle;\n",
       "    }\n",
       "\n",
       "    .dataframe tbody tr th {\n",
       "        vertical-align: top;\n",
       "    }\n",
       "\n",
       "    .dataframe thead th {\n",
       "        text-align: right;\n",
       "    }\n",
       "</style>\n",
       "<table border=\"1\" class=\"dataframe\">\n",
       "  <thead>\n",
       "    <tr style=\"text-align: right;\">\n",
       "      <th></th>\n",
       "      <th>UDI</th>\n",
       "      <th>Product ID</th>\n",
       "      <th>Type</th>\n",
       "      <th>Air temperature [K]</th>\n",
       "      <th>Process temperature [K]</th>\n",
       "      <th>Rotational speed [rpm]</th>\n",
       "      <th>Torque [Nm]</th>\n",
       "      <th>Tool wear [min]</th>\n",
       "      <th>Machine failure</th>\n",
       "    </tr>\n",
       "  </thead>\n",
       "  <tbody>\n",
       "    <tr>\n",
       "      <th>0</th>\n",
       "      <td>1</td>\n",
       "      <td>M14860</td>\n",
       "      <td>M</td>\n",
       "      <td>298.1</td>\n",
       "      <td>308.6</td>\n",
       "      <td>1551</td>\n",
       "      <td>42.8</td>\n",
       "      <td>0</td>\n",
       "      <td>0</td>\n",
       "    </tr>\n",
       "    <tr>\n",
       "      <th>1</th>\n",
       "      <td>2</td>\n",
       "      <td>L47181</td>\n",
       "      <td>L</td>\n",
       "      <td>298.2</td>\n",
       "      <td>308.7</td>\n",
       "      <td>1408</td>\n",
       "      <td>46.3</td>\n",
       "      <td>3</td>\n",
       "      <td>0</td>\n",
       "    </tr>\n",
       "    <tr>\n",
       "      <th>2</th>\n",
       "      <td>3</td>\n",
       "      <td>L47182</td>\n",
       "      <td>L</td>\n",
       "      <td>298.1</td>\n",
       "      <td>308.5</td>\n",
       "      <td>1498</td>\n",
       "      <td>49.4</td>\n",
       "      <td>5</td>\n",
       "      <td>0</td>\n",
       "    </tr>\n",
       "    <tr>\n",
       "      <th>3</th>\n",
       "      <td>4</td>\n",
       "      <td>L47183</td>\n",
       "      <td>L</td>\n",
       "      <td>298.2</td>\n",
       "      <td>308.6</td>\n",
       "      <td>1433</td>\n",
       "      <td>39.5</td>\n",
       "      <td>7</td>\n",
       "      <td>0</td>\n",
       "    </tr>\n",
       "    <tr>\n",
       "      <th>4</th>\n",
       "      <td>5</td>\n",
       "      <td>L47184</td>\n",
       "      <td>L</td>\n",
       "      <td>298.2</td>\n",
       "      <td>308.7</td>\n",
       "      <td>1408</td>\n",
       "      <td>40.0</td>\n",
       "      <td>9</td>\n",
       "      <td>0</td>\n",
       "    </tr>\n",
       "  </tbody>\n",
       "</table>\n",
       "</div>"
      ],
      "text/plain": [
       "   UDI Product ID Type  Air temperature [K]  Process temperature [K]  \\\n",
       "0    1     M14860    M                298.1                    308.6   \n",
       "1    2     L47181    L                298.2                    308.7   \n",
       "2    3     L47182    L                298.1                    308.5   \n",
       "3    4     L47183    L                298.2                    308.6   \n",
       "4    5     L47184    L                298.2                    308.7   \n",
       "\n",
       "   Rotational speed [rpm]  Torque [Nm]  Tool wear [min]  Machine failure  \n",
       "0                    1551         42.8                0                0  \n",
       "1                    1408         46.3                3                0  \n",
       "2                    1498         49.4                5                0  \n",
       "3                    1433         39.5                7                0  \n",
       "4                    1408         40.0                9                0  "
      ]
     },
     "execution_count": 6,
     "metadata": {},
     "output_type": "execute_result"
    }
   ],
   "source": [
    "df.head()"
   ]
  },
  {
   "cell_type": "code",
   "execution_count": 7,
   "id": "518fcd08-3c65-411c-af10-8c841ac79891",
   "metadata": {},
   "outputs": [],
   "source": [
    "# divisão das colunas\n",
    "categorical_columns = ['Type']\n",
    "numerical_columns = ['Air temperature [K]','Process temperature [K]','Rotational speed [rpm]','Torque [Nm]','Tool wear [min]']\n",
    "target_column = ['Machine failure']\n",
    "\n",
    "# colunas que não importam para o modelo\n",
    "Xdrop_columns = ['UDI', 'Product ID'] \n",
    "\n",
    "# Separando features e target\n",
    "X = df.drop(target_column, axis=1)\n",
    "X.drop(Xdrop_columns, axis = 1, inplace =True)\n",
    "y = df[target_column]\n",
    "\n",
    "# Split\n",
    "X_train, X_test, y_train, y_test = train_test_split(X, y, test_size=0.2, random_state=42, stratify=y)"
   ]
  },
  {
   "cell_type": "code",
   "execution_count": 8,
   "id": "bae99e28-6eca-4637-bfa8-6a4c8b30c0c4",
   "metadata": {},
   "outputs": [
    {
     "data": {
      "text/html": [
       "<div>\n",
       "<style scoped>\n",
       "    .dataframe tbody tr th:only-of-type {\n",
       "        vertical-align: middle;\n",
       "    }\n",
       "\n",
       "    .dataframe tbody tr th {\n",
       "        vertical-align: top;\n",
       "    }\n",
       "\n",
       "    .dataframe thead th {\n",
       "        text-align: right;\n",
       "    }\n",
       "</style>\n",
       "<table border=\"1\" class=\"dataframe\">\n",
       "  <thead>\n",
       "    <tr style=\"text-align: right;\">\n",
       "      <th></th>\n",
       "      <th>Type</th>\n",
       "      <th>Air temperature [K]</th>\n",
       "      <th>Process temperature [K]</th>\n",
       "      <th>Rotational speed [rpm]</th>\n",
       "      <th>Torque [Nm]</th>\n",
       "      <th>Tool wear [min]</th>\n",
       "    </tr>\n",
       "  </thead>\n",
       "  <tbody>\n",
       "    <tr>\n",
       "      <th>4058</th>\n",
       "      <td>M</td>\n",
       "      <td>302.0</td>\n",
       "      <td>310.9</td>\n",
       "      <td>1456</td>\n",
       "      <td>47.2</td>\n",
       "      <td>54</td>\n",
       "    </tr>\n",
       "    <tr>\n",
       "      <th>1221</th>\n",
       "      <td>M</td>\n",
       "      <td>297.0</td>\n",
       "      <td>308.3</td>\n",
       "      <td>1399</td>\n",
       "      <td>46.4</td>\n",
       "      <td>132</td>\n",
       "    </tr>\n",
       "    <tr>\n",
       "      <th>6895</th>\n",
       "      <td>M</td>\n",
       "      <td>301.0</td>\n",
       "      <td>311.6</td>\n",
       "      <td>1357</td>\n",
       "      <td>45.6</td>\n",
       "      <td>137</td>\n",
       "    </tr>\n",
       "    <tr>\n",
       "      <th>9863</th>\n",
       "      <td>L</td>\n",
       "      <td>298.9</td>\n",
       "      <td>309.8</td>\n",
       "      <td>1411</td>\n",
       "      <td>56.3</td>\n",
       "      <td>84</td>\n",
       "    </tr>\n",
       "    <tr>\n",
       "      <th>8711</th>\n",
       "      <td>L</td>\n",
       "      <td>297.1</td>\n",
       "      <td>308.5</td>\n",
       "      <td>1733</td>\n",
       "      <td>28.7</td>\n",
       "      <td>50</td>\n",
       "    </tr>\n",
       "  </tbody>\n",
       "</table>\n",
       "</div>"
      ],
      "text/plain": [
       "     Type  Air temperature [K]  Process temperature [K]  \\\n",
       "4058    M                302.0                    310.9   \n",
       "1221    M                297.0                    308.3   \n",
       "6895    M                301.0                    311.6   \n",
       "9863    L                298.9                    309.8   \n",
       "8711    L                297.1                    308.5   \n",
       "\n",
       "      Rotational speed [rpm]  Torque [Nm]  Tool wear [min]  \n",
       "4058                    1456         47.2               54  \n",
       "1221                    1399         46.4              132  \n",
       "6895                    1357         45.6              137  \n",
       "9863                    1411         56.3               84  \n",
       "8711                    1733         28.7               50  "
      ]
     },
     "execution_count": 8,
     "metadata": {},
     "output_type": "execute_result"
    }
   ],
   "source": [
    "X_train.head()"
   ]
  },
  {
   "cell_type": "code",
   "execution_count": 9,
   "id": "3c11c054-60d8-4d3e-bc06-7714d52cf1b2",
   "metadata": {},
   "outputs": [
    {
     "data": {
      "text/html": [
       "<div>\n",
       "<style scoped>\n",
       "    .dataframe tbody tr th:only-of-type {\n",
       "        vertical-align: middle;\n",
       "    }\n",
       "\n",
       "    .dataframe tbody tr th {\n",
       "        vertical-align: top;\n",
       "    }\n",
       "\n",
       "    .dataframe thead th {\n",
       "        text-align: right;\n",
       "    }\n",
       "</style>\n",
       "<table border=\"1\" class=\"dataframe\">\n",
       "  <thead>\n",
       "    <tr style=\"text-align: right;\">\n",
       "      <th></th>\n",
       "      <th>Machine failure</th>\n",
       "    </tr>\n",
       "  </thead>\n",
       "  <tbody>\n",
       "    <tr>\n",
       "      <th>2997</th>\n",
       "      <td>0</td>\n",
       "    </tr>\n",
       "    <tr>\n",
       "      <th>4871</th>\n",
       "      <td>0</td>\n",
       "    </tr>\n",
       "    <tr>\n",
       "      <th>3858</th>\n",
       "      <td>0</td>\n",
       "    </tr>\n",
       "    <tr>\n",
       "      <th>951</th>\n",
       "      <td>0</td>\n",
       "    </tr>\n",
       "    <tr>\n",
       "      <th>6463</th>\n",
       "      <td>0</td>\n",
       "    </tr>\n",
       "  </tbody>\n",
       "</table>\n",
       "</div>"
      ],
      "text/plain": [
       "      Machine failure\n",
       "2997                0\n",
       "4871                0\n",
       "3858                0\n",
       "951                 0\n",
       "6463                0"
      ]
     },
     "execution_count": 9,
     "metadata": {},
     "output_type": "execute_result"
    }
   ],
   "source": [
    "y_test.head()"
   ]
  },
  {
   "cell_type": "code",
   "execution_count": 10,
   "id": "d09f6b4b-e600-49f4-a32f-d95a575ac147",
   "metadata": {},
   "outputs": [],
   "source": [
    "# CATEGORICAL --> criando o encoder\n",
    "encoder = OneHotEncoder(drop='first', sparse_output=False)\n",
    "\n",
    "# encoder + df de treino\n",
    "encoded_type_train = encoder.fit_transform(X_train[categorical_columns])\n",
    "encoded_train_df = pd.DataFrame(\n",
    "    encoded_type_train,\n",
    "    columns=encoder.get_feature_names_out(input_features=categorical_columns),\n",
    "    index=X_train.index\n",
    ")"
   ]
  },
  {
   "cell_type": "code",
   "execution_count": 11,
   "id": "a14d6302-f183-4714-a6f5-2d3e3c3ebb3c",
   "metadata": {},
   "outputs": [],
   "source": [
    "# CATEGORICAL --> encoder + df de teste\n",
    "encoded_type_test = encoder.transform(X_test[categorical_columns])\n",
    "\n",
    "encoded_test_df = pd.DataFrame(\n",
    "    encoded_type_test,\n",
    "    columns=encoder.get_feature_names_out(input_features=categorical_columns),\n",
    "    index=X_test.index\n",
    ")"
   ]
  },
  {
   "cell_type": "code",
   "execution_count": 12,
   "id": "c12c9da2-7f40-4164-ba3f-9ae6543509aa",
   "metadata": {},
   "outputs": [],
   "source": [
    "# NUMERICAL --> Scaler\n",
    "scaler = MinMaxScaler()\n",
    "X_train_num = scaler.fit_transform(X_train[numerical_columns])\n",
    "X_test_num = scaler.transform(X_test[numerical_columns])"
   ]
  },
  {
   "cell_type": "code",
   "execution_count": 13,
   "id": "13a1a428-3ad9-4b82-a051-24514771270c",
   "metadata": {},
   "outputs": [],
   "source": [
    "\n",
    "X_train_processed = pd.DataFrame(\n",
    "    np.hstack([X_train_num, encoded_train_df]),\n",
    "    columns=numerical_columns + list(encoder.get_feature_names_out(categorical_columns)),\n",
    "    index=X_train.index\n",
    ")"
   ]
  },
  {
   "cell_type": "code",
   "execution_count": 14,
   "id": "7a994129-15a2-406f-8b6a-f175a35494bc",
   "metadata": {},
   "outputs": [],
   "source": [
    "X_test_processed = pd.DataFrame(\n",
    "    np.hstack([X_test_num, encoded_test_df]),\n",
    "    columns=numerical_columns + list(encoder.get_feature_names_out(categorical_columns)),\n",
    "    index=X_test.index\n",
    ")"
   ]
  },
  {
   "cell_type": "code",
   "execution_count": 15,
   "id": "0c6f08d0-9fe7-4583-8a0d-8fbc0e36c71f",
   "metadata": {},
   "outputs": [
    {
     "data": {
      "text/html": [
       "<div>\n",
       "<style scoped>\n",
       "    .dataframe tbody tr th:only-of-type {\n",
       "        vertical-align: middle;\n",
       "    }\n",
       "\n",
       "    .dataframe tbody tr th {\n",
       "        vertical-align: top;\n",
       "    }\n",
       "\n",
       "    .dataframe thead th {\n",
       "        text-align: right;\n",
       "    }\n",
       "</style>\n",
       "<table border=\"1\" class=\"dataframe\">\n",
       "  <thead>\n",
       "    <tr style=\"text-align: right;\">\n",
       "      <th></th>\n",
       "      <th>Air temperature [K]</th>\n",
       "      <th>Process temperature [K]</th>\n",
       "      <th>Rotational speed [rpm]</th>\n",
       "      <th>Torque [Nm]</th>\n",
       "      <th>Tool wear [min]</th>\n",
       "      <th>Type_L</th>\n",
       "      <th>Type_M</th>\n",
       "    </tr>\n",
       "  </thead>\n",
       "  <tbody>\n",
       "    <tr>\n",
       "      <th>4058</th>\n",
       "      <td>0.998914</td>\n",
       "      <td>0.604282</td>\n",
       "      <td>-0.460607</td>\n",
       "      <td>0.718305</td>\n",
       "      <td>-0.843997</td>\n",
       "      <td>0.0</td>\n",
       "      <td>1.0</td>\n",
       "    </tr>\n",
       "    <tr>\n",
       "      <th>1221</th>\n",
       "      <td>-1.505194</td>\n",
       "      <td>-1.153260</td>\n",
       "      <td>-0.775574</td>\n",
       "      <td>0.638456</td>\n",
       "      <td>0.382263</td>\n",
       "      <td>0.0</td>\n",
       "      <td>1.0</td>\n",
       "    </tr>\n",
       "    <tr>\n",
       "      <th>6895</th>\n",
       "      <td>0.498092</td>\n",
       "      <td>1.077466</td>\n",
       "      <td>-1.007654</td>\n",
       "      <td>0.558607</td>\n",
       "      <td>0.460870</td>\n",
       "      <td>0.0</td>\n",
       "      <td>1.0</td>\n",
       "    </tr>\n",
       "    <tr>\n",
       "      <th>9863</th>\n",
       "      <td>-0.553633</td>\n",
       "      <td>-0.139294</td>\n",
       "      <td>-0.709265</td>\n",
       "      <td>1.626586</td>\n",
       "      <td>-0.372359</td>\n",
       "      <td>1.0</td>\n",
       "      <td>0.0</td>\n",
       "    </tr>\n",
       "    <tr>\n",
       "      <th>8711</th>\n",
       "      <td>-1.455112</td>\n",
       "      <td>-1.018064</td>\n",
       "      <td>1.070019</td>\n",
       "      <td>-1.128202</td>\n",
       "      <td>-0.906882</td>\n",
       "      <td>1.0</td>\n",
       "      <td>0.0</td>\n",
       "    </tr>\n",
       "  </tbody>\n",
       "</table>\n",
       "</div>"
      ],
      "text/plain": [
       "      Air temperature [K]  Process temperature [K]  Rotational speed [rpm]  \\\n",
       "4058             0.998914                 0.604282               -0.460607   \n",
       "1221            -1.505194                -1.153260               -0.775574   \n",
       "6895             0.498092                 1.077466               -1.007654   \n",
       "9863            -0.553633                -0.139294               -0.709265   \n",
       "8711            -1.455112                -1.018064                1.070019   \n",
       "\n",
       "      Torque [Nm]  Tool wear [min]  Type_L  Type_M  \n",
       "4058     0.718305        -0.843997     0.0     1.0  \n",
       "1221     0.638456         0.382263     0.0     1.0  \n",
       "6895     0.558607         0.460870     0.0     1.0  \n",
       "9863     1.626586        -0.372359     1.0     0.0  \n",
       "8711    -1.128202        -0.906882     1.0     0.0  "
      ]
     },
     "execution_count": 15,
     "metadata": {},
     "output_type": "execute_result"
    }
   ],
   "source": [
    "X_train_processed.head()"
   ]
  },
  {
   "cell_type": "code",
   "execution_count": 16,
   "id": "c8998408-72dd-4413-95bd-dfb19d0571b3",
   "metadata": {},
   "outputs": [],
   "source": [
    "def clean_column_names(df):\n",
    "    df.columns = [\n",
    "        col.replace(' ', '_')\n",
    "           .replace('[','')\n",
    "           .replace(']','')\n",
    "           .replace('(','')\n",
    "           .replace(')','')\n",
    "           .replace('/','_per_')  # Caso tenha barras ou outros símbolos no futuro\n",
    "        for col in df.columns\n",
    "    ]\n",
    "    return df\n",
    "\n",
    "# Aplicando no treino e teste\n",
    "X_train_processed = clean_column_names(X_train_processed.copy())\n",
    "X_test_processed = clean_column_names(X_test_processed.copy())"
   ]
  },
  {
   "cell_type": "code",
   "execution_count": 17,
   "id": "3b0c543b-d55c-4b92-8966-41a6efd66301",
   "metadata": {},
   "outputs": [
    {
     "data": {
      "text/html": [
       "<div>\n",
       "<style scoped>\n",
       "    .dataframe tbody tr th:only-of-type {\n",
       "        vertical-align: middle;\n",
       "    }\n",
       "\n",
       "    .dataframe tbody tr th {\n",
       "        vertical-align: top;\n",
       "    }\n",
       "\n",
       "    .dataframe thead th {\n",
       "        text-align: right;\n",
       "    }\n",
       "</style>\n",
       "<table border=\"1\" class=\"dataframe\">\n",
       "  <thead>\n",
       "    <tr style=\"text-align: right;\">\n",
       "      <th></th>\n",
       "      <th>Air_temperature_K</th>\n",
       "      <th>Process_temperature_K</th>\n",
       "      <th>Rotational_speed_rpm</th>\n",
       "      <th>Torque_Nm</th>\n",
       "      <th>Tool_wear_min</th>\n",
       "      <th>Type_L</th>\n",
       "      <th>Type_M</th>\n",
       "    </tr>\n",
       "  </thead>\n",
       "  <tbody>\n",
       "    <tr>\n",
       "      <th>2997</th>\n",
       "      <td>0.247681</td>\n",
       "      <td>-0.139294</td>\n",
       "      <td>-1.073963</td>\n",
       "      <td>2.265378</td>\n",
       "      <td>0.712410</td>\n",
       "      <td>1.0</td>\n",
       "      <td>0.0</td>\n",
       "    </tr>\n",
       "    <tr>\n",
       "      <th>4871</th>\n",
       "      <td>1.850310</td>\n",
       "      <td>1.618248</td>\n",
       "      <td>-0.145641</td>\n",
       "      <td>0.009646</td>\n",
       "      <td>0.429427</td>\n",
       "      <td>1.0</td>\n",
       "      <td>0.0</td>\n",
       "    </tr>\n",
       "    <tr>\n",
       "      <th>3858</th>\n",
       "      <td>1.249324</td>\n",
       "      <td>0.942270</td>\n",
       "      <td>0.108543</td>\n",
       "      <td>-0.239882</td>\n",
       "      <td>1.592802</td>\n",
       "      <td>1.0</td>\n",
       "      <td>0.0</td>\n",
       "    </tr>\n",
       "    <tr>\n",
       "      <th>951</th>\n",
       "      <td>-2.206344</td>\n",
       "      <td>-2.505215</td>\n",
       "      <td>-0.167744</td>\n",
       "      <td>-0.419543</td>\n",
       "      <td>-0.749670</td>\n",
       "      <td>0.0</td>\n",
       "      <td>0.0</td>\n",
       "    </tr>\n",
       "    <tr>\n",
       "      <th>6463</th>\n",
       "      <td>0.247681</td>\n",
       "      <td>-0.004098</td>\n",
       "      <td>-1.002129</td>\n",
       "      <td>2.035812</td>\n",
       "      <td>-0.089376</td>\n",
       "      <td>0.0</td>\n",
       "      <td>0.0</td>\n",
       "    </tr>\n",
       "  </tbody>\n",
       "</table>\n",
       "</div>"
      ],
      "text/plain": [
       "      Air_temperature_K  Process_temperature_K  Rotational_speed_rpm  \\\n",
       "2997           0.247681              -0.139294             -1.073963   \n",
       "4871           1.850310               1.618248             -0.145641   \n",
       "3858           1.249324               0.942270              0.108543   \n",
       "951           -2.206344              -2.505215             -0.167744   \n",
       "6463           0.247681              -0.004098             -1.002129   \n",
       "\n",
       "      Torque_Nm  Tool_wear_min  Type_L  Type_M  \n",
       "2997   2.265378       0.712410     1.0     0.0  \n",
       "4871   0.009646       0.429427     1.0     0.0  \n",
       "3858  -0.239882       1.592802     1.0     0.0  \n",
       "951   -0.419543      -0.749670     0.0     0.0  \n",
       "6463   2.035812      -0.089376     0.0     0.0  "
      ]
     },
     "execution_count": 17,
     "metadata": {},
     "output_type": "execute_result"
    }
   ],
   "source": [
    "X_test_processed.head()"
   ]
  },
  {
   "cell_type": "code",
   "execution_count": 18,
   "id": "d22b43f5-e5c8-4a7b-9445-4d3317636850",
   "metadata": {},
   "outputs": [
    {
     "name": "stdout",
     "output_type": "stream",
     "text": [
      "              precision    recall  f1-score   support\n",
      "\n",
      "           0       0.98      1.00      0.99      1932\n",
      "           1       0.88      0.53      0.66        68\n",
      "\n",
      "    accuracy                           0.98      2000\n",
      "   macro avg       0.93      0.76      0.83      2000\n",
      "weighted avg       0.98      0.98      0.98      2000\n",
      "\n"
     ]
    }
   ],
   "source": [
    "model = RandomForestClassifier(random_state=42)\n",
    "model.fit(X_train_processed, y_train)\n",
    "\n",
    "preds = model.predict(X_test_processed)\n",
    "\n",
    "print(classification_report(y_test, preds))"
   ]
  },
  {
   "cell_type": "code",
   "execution_count": 20,
   "id": "7039bcc9-f481-4311-853a-bac79511f8b1",
   "metadata": {},
   "outputs": [
    {
     "name": "stderr",
     "output_type": "stream",
     "text": [
      "2025/06/25 00:13:11 INFO mlflow.tracking.fluent: Experiment with name 'manutencao_preditiva_multimodel_v2' does not exist. Creating a new experiment.\n",
      "2025/06/25 00:13:12 WARNING mlflow.models.model: `artifact_path` is deprecated. Please use `name` instead.\n",
      "\u001b[31m2025/06/25 00:13:16 WARNING mlflow.models.model: Model logged without a signature and input example. Please set `input_example` parameter when logging the model to auto infer the model signature.\u001b[0m\n",
      "2025/06/25 00:13:16 WARNING mlflow.models.model: `artifact_path` is deprecated. Please use `name` instead.\n"
     ]
    },
    {
     "name": "stdout",
     "output_type": "stream",
     "text": [
      "Modelo: RandomForest - Acc: 0.9815 - F1: 0.6606 - Prec_1: 0.8780 - Rec_1: 0.5294\n"
     ]
    },
    {
     "name": "stderr",
     "output_type": "stream",
     "text": [
      "\u001b[31m2025/06/25 00:13:20 WARNING mlflow.models.model: Model logged without a signature and input example. Please set `input_example` parameter when logging the model to auto infer the model signature.\u001b[0m\n"
     ]
    },
    {
     "name": "stdout",
     "output_type": "stream",
     "text": [
      "Modelo: LogisticRegression - Acc: 0.9675 - F1: 0.1772 - Prec_1: 0.6364 - Rec_1: 0.1029\n"
     ]
    },
    {
     "name": "stderr",
     "output_type": "stream",
     "text": [
      "2025/06/25 00:13:21 WARNING mlflow.models.model: `artifact_path` is deprecated. Please use `name` instead.\n",
      "\u001b[31m2025/06/25 00:13:24 WARNING mlflow.models.model: Model logged without a signature and input example. Please set `input_example` parameter when logging the model to auto infer the model signature.\u001b[0m\n"
     ]
    },
    {
     "name": "stdout",
     "output_type": "stream",
     "text": [
      "Modelo: GradientBoosting - Acc: 0.9860 - F1: 0.7667 - Prec_1: 0.8846 - Rec_1: 0.6765\n"
     ]
    },
    {
     "name": "stderr",
     "output_type": "stream",
     "text": [
      "2025/06/25 00:13:26 WARNING mlflow.models.model: `artifact_path` is deprecated. Please use `name` instead.\n",
      "\u001b[31m2025/06/25 00:13:29 WARNING mlflow.models.model: Model logged without a signature and input example. Please set `input_example` parameter when logging the model to auto infer the model signature.\u001b[0m\n"
     ]
    },
    {
     "name": "stdout",
     "output_type": "stream",
     "text": [
      "Modelo: SVM - Acc: 0.9715 - F1: 0.3133 - Prec_1: 0.8667 - Rec_1: 0.1912\n"
     ]
    },
    {
     "name": "stderr",
     "output_type": "stream",
     "text": [
      "2025/06/25 00:13:29 WARNING mlflow.models.model: `artifact_path` is deprecated. Please use `name` instead.\n",
      "\u001b[31m2025/06/25 00:13:33 WARNING mlflow.models.model: Model logged without a signature and input example. Please set `input_example` parameter when logging the model to auto infer the model signature.\u001b[0m\n"
     ]
    },
    {
     "name": "stdout",
     "output_type": "stream",
     "text": [
      "Modelo: KNN - Acc: 0.9735 - F1: 0.4176 - Prec_1: 0.8261 - Rec_1: 0.2794\n",
      "[LightGBM] [Info] Number of positive: 271, number of negative: 7729\n",
      "[LightGBM] [Info] Auto-choosing row-wise multi-threading, the overhead of testing was 0.000266 seconds.\n",
      "You can set `force_row_wise=true` to remove the overhead.\n",
      "And if memory is not enough, you can set `force_col_wise=true`.\n",
      "[LightGBM] [Info] Total Bins 928\n",
      "[LightGBM] [Info] Number of data points in the train set: 8000, number of used features: 7\n",
      "[LightGBM] [Info] [binary:BoostFromScore]: pavg=0.033875 -> initscore=-3.350616\n",
      "[LightGBM] [Info] Start training from score -3.350616\n"
     ]
    },
    {
     "name": "stderr",
     "output_type": "stream",
     "text": [
      "2025/06/25 00:13:33 WARNING mlflow.models.model: `artifact_path` is deprecated. Please use `name` instead.\n",
      "\u001b[31m2025/06/25 00:13:37 WARNING mlflow.models.model: Model logged without a signature and input example. Please set `input_example` parameter when logging the model to auto infer the model signature.\u001b[0m\n"
     ]
    },
    {
     "name": "stdout",
     "output_type": "stream",
     "text": [
      "Modelo: LightGBM - Acc: 0.9875 - F1: 0.7899 - Prec_1: 0.9216 - Rec_1: 0.6912\n"
     ]
    },
    {
     "name": "stderr",
     "output_type": "stream",
     "text": [
      "2025/06/25 00:13:37 WARNING mlflow.models.model: `artifact_path` is deprecated. Please use `name` instead.\n",
      "\u001b[31m2025/06/25 00:13:40 WARNING mlflow.models.model: Model logged without a signature and input example. Please set `input_example` parameter when logging the model to auto infer the model signature.\u001b[0m\n"
     ]
    },
    {
     "name": "stdout",
     "output_type": "stream",
     "text": [
      "Modelo: XGBoost - Acc: 0.9885 - F1: 0.8160 - Prec_1: 0.8947 - Rec_1: 0.7500\n"
     ]
    }
   ],
   "source": [
    "\"\"\"\n",
    "mlflow.set_experiment(\"manutencao_preditiva_multimodel_v2\")\n",
    "\n",
    "models = {\n",
    "    \"RandomForest\": RandomForestClassifier(n_estimators=100, random_state=42),\n",
    "    \"LogisticRegression\": LogisticRegression(max_iter=1000, random_state=42),\n",
    "    \"GradientBoosting\": GradientBoostingClassifier(n_estimators=100, random_state=42),\n",
    "    \"SVM\": SVC(kernel='rbf', probability=True, random_state=42),\n",
    "    \"KNN\": KNeighborsClassifier(n_neighbors=5),\n",
    "    \"LightGBM\": LGBMClassifier(n_estimators=100, random_state=42),\n",
    "    \"XGBoost\": XGBClassifier(n_estimators=100, use_label_encoder=False, eval_metric='logloss', random_state=42)\n",
    "}\n",
    "\n",
    "for model_name, model in models.items():\n",
    "    with mlflow.start_run(run_name=model_name):\n",
    "        model.fit(X_train_processed, y_train.values.ravel())  # Corrigindo .ravel() caso dê warning\n",
    "\n",
    "        preds = model.predict(X_test_processed)\n",
    "\n",
    "        acc = accuracy_score(y_test, preds)\n",
    "        f1 = f1_score(y_test, preds)\n",
    "        precision = precision_score(y_test, preds, pos_label=1)\n",
    "        recall = recall_score(y_test, preds, pos_label=1)\n",
    "\n",
    "        # Log dos parâmetros\n",
    "        mlflow.log_param(\"model_type\", model_name)\n",
    "\n",
    "        # Log das métricas\n",
    "        mlflow.log_metric(\"accuracy\", acc)\n",
    "        mlflow.log_metric(\"f1_score\", f1)\n",
    "        mlflow.log_metric(\"precision_class_1\", precision)\n",
    "        mlflow.log_metric(\"recall_class_1\", recall)\n",
    "\n",
    "        # Salvar o modelo\n",
    "        mlflow.sklearn.log_model(model, model_name)\n",
    "\n",
    "        print(f\"Modelo: {model_name} - Acc: {acc:.4f} - F1: {f1:.4f} - Prec_1: {precision:.4f} - Rec_1: {recall:.4f}\")\n",
    "\"\"\""
   ]
  },
  {
   "cell_type": "code",
   "execution_count": null,
   "id": "0a9a89b3-b3d0-48f3-b6df-2950e2ba8db5",
   "metadata": {},
   "outputs": [],
   "source": [
    "### primeiro o grid search penas do gradient booosting"
   ]
  },
  {
   "cell_type": "code",
   "execution_count": 24,
   "id": "7e7c5caf-7c65-440d-9315-6b252abc1d8e",
   "metadata": {},
   "outputs": [
    {
     "name": "stderr",
     "output_type": "stream",
     "text": [
      "2025/06/25 00:23:56 WARNING mlflow.models.model: `artifact_path` is deprecated. Please use `name` instead.\n",
      "\u001b[31m2025/06/25 00:23:59 WARNING mlflow.models.model: Model logged without a signature and input example. Please set `input_example` parameter when logging the model to auto infer the model signature.\u001b[0m\n"
     ]
    },
    {
     "name": "stdout",
     "output_type": "stream",
     "text": [
      "RandomForest → CV F1: 0.6584 | CV Acc: 0.9818\n"
     ]
    },
    {
     "name": "stderr",
     "output_type": "stream",
     "text": [
      "2025/06/25 00:23:59 WARNING mlflow.models.model: `artifact_path` is deprecated. Please use `name` instead.\n",
      "\u001b[31m2025/06/25 00:24:02 WARNING mlflow.models.model: Model logged without a signature and input example. Please set `input_example` parameter when logging the model to auto infer the model signature.\u001b[0m\n"
     ]
    },
    {
     "name": "stdout",
     "output_type": "stream",
     "text": [
      "LogisticRegression → CV F1: 0.2960 | CV Acc: 0.9704\n"
     ]
    },
    {
     "name": "stderr",
     "output_type": "stream",
     "text": [
      "2025/06/25 00:24:08 WARNING mlflow.models.model: `artifact_path` is deprecated. Please use `name` instead.\n",
      "\u001b[31m2025/06/25 00:24:11 WARNING mlflow.models.model: Model logged without a signature and input example. Please set `input_example` parameter when logging the model to auto infer the model signature.\u001b[0m\n"
     ]
    },
    {
     "name": "stdout",
     "output_type": "stream",
     "text": [
      "GradientBoosting → CV F1: 0.7150 | CV Acc: 0.9838\n"
     ]
    },
    {
     "name": "stderr",
     "output_type": "stream",
     "text": [
      "2025/06/25 00:24:16 WARNING mlflow.models.model: `artifact_path` is deprecated. Please use `name` instead.\n",
      "\u001b[31m2025/06/25 00:24:19 WARNING mlflow.models.model: Model logged without a signature and input example. Please set `input_example` parameter when logging the model to auto infer the model signature.\u001b[0m\n"
     ]
    },
    {
     "name": "stdout",
     "output_type": "stream",
     "text": [
      "SVM → CV F1: 0.4087 | CV Acc: 0.9741\n"
     ]
    },
    {
     "name": "stderr",
     "output_type": "stream",
     "text": [
      "2025/06/25 00:24:20 WARNING mlflow.models.model: `artifact_path` is deprecated. Please use `name` instead.\n",
      "\u001b[31m2025/06/25 00:24:22 WARNING mlflow.models.model: Model logged without a signature and input example. Please set `input_example` parameter when logging the model to auto infer the model signature.\u001b[0m\n"
     ]
    },
    {
     "name": "stdout",
     "output_type": "stream",
     "text": [
      "KNN → CV F1: 0.4391 | CV Acc: 0.9739\n",
      "[LightGBM] [Info] Number of positive: 217, number of negative: 6183\n",
      "[LightGBM] [Info] Auto-choosing col-wise multi-threading, the overhead of testing was 0.000431 seconds.\n",
      "You can set `force_col_wise=true` to remove the overhead.\n",
      "[LightGBM] [Info] Total Bins 922\n",
      "[LightGBM] [Info] Number of data points in the train set: 6400, number of used features: 7\n",
      "[LightGBM] [Info] [binary:BoostFromScore]: pavg=0.033906 -> initscore=-3.349662\n",
      "[LightGBM] [Info] Start training from score -3.349662\n",
      "[LightGBM] [Info] Number of positive: 217, number of negative: 6183\n",
      "[LightGBM] [Info] Auto-choosing col-wise multi-threading, the overhead of testing was 0.000417 seconds.\n",
      "You can set `force_col_wise=true` to remove the overhead.\n",
      "[LightGBM] [Info] Total Bins 922\n",
      "[LightGBM] [Info] Number of data points in the train set: 6400, number of used features: 7\n",
      "[LightGBM] [Info] [binary:BoostFromScore]: pavg=0.033906 -> initscore=-3.349662\n",
      "[LightGBM] [Info] Start training from score -3.349662\n",
      "[LightGBM] [Info] Number of positive: 217, number of negative: 6183\n",
      "[LightGBM] [Info] Auto-choosing col-wise multi-threading, the overhead of testing was 0.000645 seconds.\n",
      "You can set `force_col_wise=true` to remove the overhead.\n",
      "[LightGBM] [Info] Total Bins 926\n",
      "[LightGBM] [Info] Number of data points in the train set: 6400, number of used features: 7\n",
      "[LightGBM] [Info] [binary:BoostFromScore]: pavg=0.033906 -> initscore=-3.349662\n",
      "[LightGBM] [Info] Start training from score -3.349662\n",
      "[LightGBM] [Info] Number of positive: 217, number of negative: 6183\n",
      "[LightGBM] [Info] Auto-choosing col-wise multi-threading, the overhead of testing was 0.000403 seconds.\n",
      "You can set `force_col_wise=true` to remove the overhead.\n",
      "[LightGBM] [Info] Total Bins 921\n",
      "[LightGBM] [Info] Number of data points in the train set: 6400, number of used features: 7\n",
      "[LightGBM] [Info] [binary:BoostFromScore]: pavg=0.033906 -> initscore=-3.349662\n",
      "[LightGBM] [Info] Start training from score -3.349662\n",
      "[LightGBM] [Info] Number of positive: 216, number of negative: 6184\n",
      "[LightGBM] [Info] Auto-choosing row-wise multi-threading, the overhead of testing was 0.000097 seconds.\n",
      "You can set `force_row_wise=true` to remove the overhead.\n",
      "And if memory is not enough, you can set `force_col_wise=true`.\n",
      "[LightGBM] [Info] Total Bins 925\n",
      "[LightGBM] [Info] Number of data points in the train set: 6400, number of used features: 7\n",
      "[LightGBM] [Info] [binary:BoostFromScore]: pavg=0.033750 -> initscore=-3.354442\n",
      "[LightGBM] [Info] Start training from score -3.354442\n",
      "[LightGBM] [Info] Number of positive: 271, number of negative: 7729\n",
      "[LightGBM] [Info] Auto-choosing col-wise multi-threading, the overhead of testing was 0.000595 seconds.\n",
      "You can set `force_col_wise=true` to remove the overhead.\n",
      "[LightGBM] [Info] Total Bins 928\n",
      "[LightGBM] [Info] Number of data points in the train set: 8000, number of used features: 7\n",
      "[LightGBM] [Info] [binary:BoostFromScore]: pavg=0.033875 -> initscore=-3.350616\n",
      "[LightGBM] [Info] Start training from score -3.350616\n"
     ]
    },
    {
     "name": "stderr",
     "output_type": "stream",
     "text": [
      "2025/06/25 00:24:23 WARNING mlflow.models.model: `artifact_path` is deprecated. Please use `name` instead.\n",
      "\u001b[31m2025/06/25 00:24:26 WARNING mlflow.models.model: Model logged without a signature and input example. Please set `input_example` parameter when logging the model to auto infer the model signature.\u001b[0m\n"
     ]
    },
    {
     "name": "stdout",
     "output_type": "stream",
     "text": [
      "LightGBM → CV F1: 0.7388 | CV Acc: 0.9844\n"
     ]
    },
    {
     "name": "stderr",
     "output_type": "stream",
     "text": [
      "2025/06/25 00:24:27 WARNING mlflow.models.model: `artifact_path` is deprecated. Please use `name` instead.\n",
      "\u001b[31m2025/06/25 00:24:30 WARNING mlflow.models.model: Model logged without a signature and input example. Please set `input_example` parameter when logging the model to auto infer the model signature.\u001b[0m\n"
     ]
    },
    {
     "name": "stdout",
     "output_type": "stream",
     "text": [
      "XGBoost → CV F1: 0.7358 | CV Acc: 0.9836\n"
     ]
    }
   ],
   "source": [
    "\n",
    "\n",
    "models = {\n",
    "    \"RandomForest\": RandomForestClassifier(n_estimators=100, random_state=42),\n",
    "    \"LogisticRegression\": LogisticRegression(max_iter=1000, random_state=42),\n",
    "    \"GradientBoosting\": GradientBoostingClassifier(n_estimators=100, random_state=42),\n",
    "    \"SVM\": SVC(kernel='rbf', probability=True, random_state=42),\n",
    "    \"KNN\": KNeighborsClassifier(n_neighbors=5),\n",
    "    \"LightGBM\": LGBMClassifier(n_estimators=100, random_state=42),\n",
    "    \"XGBoost\": XGBClassifier(n_estimators=100, use_label_encoder=False, eval_metric='logloss', random_state=42)\n",
    "}\n",
    "\n",
    "\n",
    "# Scorers personalizados\n",
    "scoring = {\n",
    "    'accuracy': 'accuracy',\n",
    "    'f1': make_scorer(f1_score, pos_label=1),\n",
    "    'precision': make_scorer(precision_score, pos_label=1),\n",
    "    'recall': make_scorer(recall_score, pos_label=1)\n",
    "}\n",
    "\n",
    "mlflow.set_experiment(\"manutencao_preditiva_multimodel_cv_v2\")\n",
    "\n",
    "for model_name, model in models.items():\n",
    "    with mlflow.start_run(run_name=f\"{model_name}_CV\"):\n",
    "\n",
    "        # Cross-Validation com 5 folds\n",
    "        results = cross_validate(\n",
    "            model,\n",
    "            X_train_processed,\n",
    "            y_train.values.ravel(),\n",
    "            cv=5,\n",
    "            scoring=scoring,\n",
    "            return_train_score=False\n",
    "        )\n",
    "\n",
    "        # Log de métricas médias\n",
    "        mlflow.log_param(\"model_type\", model_name)\n",
    "        mlflow.log_metric(\"cv_accuracy\", results['test_accuracy'].mean())\n",
    "        mlflow.log_metric(\"cv_f1_score\", results['test_f1'].mean())\n",
    "        mlflow.log_metric(\"cv_precision_class_1\", results['test_precision'].mean())\n",
    "        mlflow.log_metric(\"cv_recall_class_1\", results['test_recall'].mean())\n",
    "\n",
    "        # Treina no full train e salva o modelo final\n",
    "        model.fit(X_train_processed, y_train.values.ravel())\n",
    "        mlflow.sklearn.log_model(model, model_name)\n",
    "\n",
    "\n",
    "\n",
    "        # Salvar o encoder\n",
    "        encoder_path = f\"encoder.pkl\"\n",
    "        joblib.dump(encoder, encoder_path)\n",
    "        mlflow.log_artifact(encoder_path, artifact_path=\"preprocessing\")\n",
    "\n",
    "\n",
    "        # Salvar o scaler\n",
    "        scaler_path = f\"scaler.pkl\"\n",
    "        joblib.dump(scaler, scaler_path)\n",
    "        mlflow.log_artifact(scaler_path, artifact_path=\"preprocessing\")\n",
    "\n",
    "        # Tags explicativas\n",
    "        mlflow.set_tag(\"preprocessing_scaler\", scaler.__class__.__name__)\n",
    "        mlflow.set_tag(\"preprocessing_encoder\", encoder.__class__.__name__)\n",
    "        \n",
    "        print(f\"{model_name} → CV F1: {results['test_f1'].mean():.4f} | CV Acc: {results['test_accuracy'].mean():.4f}\")\n"
   ]
  },
  {
   "cell_type": "code",
   "execution_count": null,
   "id": "92fb8eb0-5025-4a0c-9965-ddf6fded5146",
   "metadata": {},
   "outputs": [],
   "source": []
  }
 ],
 "metadata": {
  "environment": {
   "kernel": "manutencao_preditiva",
   "name": "workbench-notebooks.m130",
   "type": "gcloud",
   "uri": "us-docker.pkg.dev/deeplearning-platform-release/gcr.io/workbench-notebooks:m130"
  },
  "kernelspec": {
   "display_name": "manutencao_preditiva (Local)",
   "language": "python",
   "name": "manutencao_preditiva"
  },
  "language_info": {
   "codemirror_mode": {
    "name": "ipython",
    "version": 3
   },
   "file_extension": ".py",
   "mimetype": "text/x-python",
   "name": "python",
   "nbconvert_exporter": "python",
   "pygments_lexer": "ipython3",
   "version": "3.10.18"
  }
 },
 "nbformat": 4,
 "nbformat_minor": 5
}
