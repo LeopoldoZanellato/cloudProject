{
 "cells": [
  {
   "cell_type": "code",
   "execution_count": 1,
   "id": "7378ba82-a85b-48c9-9ebc-d548ac444adc",
   "metadata": {},
   "outputs": [],
   "source": [
    "import mlflow\n"
   ]
  },
  {
   "cell_type": "code",
   "execution_count": 2,
   "id": "750c5272-5af6-418c-9a52-cff6dd5481fc",
   "metadata": {},
   "outputs": [],
   "source": [
    "# Lista todos os experimentos, incluindo deletados\n",
    "for exp in mlflow.search_experiments(view_type=\"all\"):\n",
    "    print(f\"Name: {exp.name}, ID: {exp.experiment_id}, Deleted: {exp.lifecycle_stage}\")"
   ]
  },
  {
   "cell_type": "code",
   "execution_count": 3,
   "id": "3db8cea5-2978-47bd-9fc2-71ab2760e195",
   "metadata": {},
   "outputs": [
    {
     "ename": "NameError",
     "evalue": "name 'exp' is not defined",
     "output_type": "error",
     "traceback": [
      "\u001b[0;31m---------------------------------------------------------------------------\u001b[0m",
      "\u001b[0;31mNameError\u001b[0m                                 Traceback (most recent call last)",
      "Cell \u001b[0;32mIn[3], line 1\u001b[0m\n\u001b[0;32m----> 1\u001b[0m \u001b[43mexp\u001b[49m\n",
      "\u001b[0;31mNameError\u001b[0m: name 'exp' is not defined"
     ]
    }
   ],
   "source": [
    "exp"
   ]
  },
  {
   "cell_type": "code",
   "execution_count": 4,
   "id": "e257febb-294a-4fde-ac67-45110d8e1f12",
   "metadata": {},
   "outputs": [
    {
     "data": {
      "text/plain": [
       "'file:///home/jupyter/cloudProject/mlruns'"
      ]
     },
     "execution_count": 4,
     "metadata": {},
     "output_type": "execute_result"
    }
   ],
   "source": [
    "mlflow.get_tracking_uri()"
   ]
  },
  {
   "cell_type": "code",
   "execution_count": 5,
   "id": "017dbf55-f0dd-4a1b-b9db-9c1c7be4dfb1",
   "metadata": {},
   "outputs": [
    {
     "name": "stdout",
     "output_type": "stream",
     "text": [
      "['.trash', 'models', '0']\n"
     ]
    }
   ],
   "source": [
    "import os\n",
    "print(os.listdir(\"mlruns\"))  # Se estiver rodando com backend local"
   ]
  },
  {
   "cell_type": "code",
   "execution_count": null,
   "id": "e75c6884-7307-452c-ad1b-a9c718276c09",
   "metadata": {},
   "outputs": [],
   "source": []
  }
 ],
 "metadata": {
  "environment": {
   "kernel": "manutencao_preditiva",
   "name": "workbench-notebooks.m130",
   "type": "gcloud",
   "uri": "us-docker.pkg.dev/deeplearning-platform-release/gcr.io/workbench-notebooks:m130"
  },
  "kernelspec": {
   "display_name": "manutencao_preditiva (Local)",
   "language": "python",
   "name": "manutencao_preditiva"
  },
  "language_info": {
   "codemirror_mode": {
    "name": "ipython",
    "version": 3
   },
   "file_extension": ".py",
   "mimetype": "text/x-python",
   "name": "python",
   "nbconvert_exporter": "python",
   "pygments_lexer": "ipython3",
   "version": "3.10.18"
  }
 },
 "nbformat": 4,
 "nbformat_minor": 5
}
