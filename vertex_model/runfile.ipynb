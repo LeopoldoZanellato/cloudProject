{
 "cells": [
  {
   "cell_type": "code",
   "execution_count": 17,
   "id": "0af8fd97-f174-434c-811b-243cd778ece1",
   "metadata": {},
   "outputs": [
    {
     "name": "stdout",
     "output_type": "stream",
     "text": [
      "Prediction(predictions=[1.0], deployed_model_id='3797813217896431616', metadata=None, model_version_id='1', model_resource_name='projects/666534829864/locations/us-central1/models/1782830616648089600', explanations=None)\n"
     ]
    }
   ],
   "source": [
    "from google.cloud import aiplatform\n",
    "\n",
    "aiplatform.init(project=\"vertexai-457414\", location=\"us-central1\")\n",
    "endpoint = aiplatform.Endpoint(\"4711870219415453696\")\n",
    "\n",
    "response = endpoint.predict(instances=[\n",
    "    {  # <- note que agora é uma lista de um elemento\n",
    "      \"data\": [\n",
    "        {\n",
    "          \"Air temperature [K]\": 298.1,\n",
    "          \"Process temperature [K]\": 309.1,\n",
    "          \"Rotational speed [rpm]\": 2861,\n",
    "          \"Torque [Nm]\": 4.6,\n",
    "          \"Tool wear [min]\": 143,\n",
    "          \"Type\": \"L\"\n",
    "        }\n",
    "      ]\n",
    "    }\n",
    "])\n",
    "print(response)"
   ]
  },
  {
   "cell_type": "code",
   "execution_count": null,
   "id": "feb74124-75f8-406f-9a9a-e69f3c934360",
   "metadata": {},
   "outputs": [],
   "source": []
  }
 ],
 "metadata": {
  "environment": {
   "kernel": "manutencao_preditiva",
   "name": "workbench-notebooks.m130",
   "type": "gcloud",
   "uri": "us-docker.pkg.dev/deeplearning-platform-release/gcr.io/workbench-notebooks:m130"
  },
  "kernelspec": {
   "display_name": "manutencao_preditiva (Local)",
   "language": "python",
   "name": "manutencao_preditiva"
  },
  "language_info": {
   "codemirror_mode": {
    "name": "ipython",
    "version": 3
   },
   "file_extension": ".py",
   "mimetype": "text/x-python",
   "name": "python",
   "nbconvert_exporter": "python",
   "pygments_lexer": "ipython3",
   "version": "3.10.18"
  }
 },
 "nbformat": 4,
 "nbformat_minor": 5
}
